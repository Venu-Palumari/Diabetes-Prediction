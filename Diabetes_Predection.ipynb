{
  "nbformat": 4,
  "nbformat_minor": 0,
  "metadata": {
    "colab": {
      "provenance": []
    },
    "kernelspec": {
      "name": "python3",
      "display_name": "Python 3"
    },
    "language_info": {
      "name": "python"
    }
  },
  "cells": [
    {
      "cell_type": "code",
      "execution_count": null,
      "metadata": {
        "colab": {
          "base_uri": "https://localhost:8080/"
        },
        "id": "tRxoxvILFDUW",
        "outputId": "02569332-a338-4631-b6db-3a975495a764"
      },
      "outputs": [
        {
          "output_type": "stream",
          "name": "stdout",
          "text": [
            "Accuracy: 0.7207792207792207\n",
            "\n",
            "Classification Report:\n",
            "              precision    recall  f1-score   support\n",
            "\n",
            "           0       0.79      0.78      0.78        99\n",
            "           1       0.61      0.62      0.61        55\n",
            "\n",
            "    accuracy                           0.72       154\n",
            "   macro avg       0.70      0.70      0.70       154\n",
            "weighted avg       0.72      0.72      0.72       154\n",
            "\n"
          ]
        }
      ],
      "source": [
        "# Import necessary libraries\n",
        "import pandas as pd\n",
        "import numpy as np\n",
        "from sklearn.model_selection import train_test_split\n",
        "from sklearn.preprocessing import StandardScaler\n",
        "from sklearn.ensemble import RandomForestClassifier\n",
        "from sklearn.metrics import accuracy_score, classification_report\n",
        "\n",
        "# Load the dataset\n",
        "df = pd.read_csv('/content/diabetes.csv')\n",
        "\n",
        "# Split features and target variable\n",
        "X = df.drop('Outcome', axis=1)\n",
        "y = df['Outcome']\n",
        "\n",
        "# Splitting the dataset into the Training set and Test set\n",
        "X_train, X_test, y_train, y_test = train_test_split(X, y, test_size=0.2, random_state=42)\n",
        "\n",
        "# Feature Scaling\n",
        "scaler = StandardScaler()\n",
        "X_train = scaler.fit_transform(X_train)\n",
        "X_test = scaler.transform(X_test)\n",
        "\n",
        "# Initialize Random Forest Classifier\n",
        "rf_classifier = RandomForestClassifier(n_estimators=100, random_state=42)\n",
        "\n",
        "# Train the model\n",
        "rf_classifier.fit(X_train, y_train)\n",
        "\n",
        "# Predicting the Test set results\n",
        "y_pred = rf_classifier.predict(X_test)\n",
        "\n",
        "# Model Evaluation\n",
        "accuracy = accuracy_score(y_test, y_pred)\n",
        "print(\"Accuracy:\", accuracy)\n",
        "print(\"\\nClassification Report:\")\n",
        "print(classification_report(y_test, y_pred))\n"
      ]
    },
    {
      "cell_type": "code",
      "source": [
        "boundary_conditions = {\n",
        "    'pregnancies': (0, 20),\n",
        "    'glucose': (0, 300),\n",
        "    'blood_pressure': (0, 200),\n",
        "    'skin_thickness': (0, 100),\n",
        "    'insulin': (0, 1000),\n",
        "    'bmi': (0, 60),\n",
        "    'diabetes_pedigree_function': (0, 2),\n",
        "    'age': (0, 150)  # Assuming maximum age to be 150\n",
        "}\n",
        "454542\n",
        "45\n",
        "\n",
        "# Take input from user for each feature\n",
        "print(\"\\nEnter the following details for diabetes prediction:\")\n",
        "pregnancies = int(input(\"Number of times pregnant: \"))\n",
        "glucose = int(input(\"Plasma glucose concentration a 2 hours in an oral glucose tolerance test: \"))\n",
        "blood_pressure = int(input(\"Diastolic blood pressure (mm Hg): \"))\n",
        "skin_thickness = int(input(\"Triceps skin fold thickness (mm): \"))\n",
        "insulin = int(input(\"2-Hour serum insulin (mu U/ml): \"))\n",
        "bmi = float(input(\"Body mass index (weight in kg/(height in m)^2): \"))\n",
        "diabetes_pedigree_function = float(input(\"Diabetes pedigree function: \"))\n",
        "age = int(input(\"Age (years): \"))\n",
        "\n",
        "# Predict on the user input\n",
        "new_data_point = [[pregnancies, glucose, blood_pressure, skin_thickness, insulin, bmi, diabetes_pedigree_function, age]]\n",
        "new_data_point_scaled = scaler.transform(new_data_point)\n",
        "prediction = rf_classifier.predict(new_data_point_scaled)\n",
        "if prediction[0] == 1:\n",
        "    print(\"\\nThe model predicts that the person is likely to have diabetes.\\n\")\n",
        "else:\n",
        "    print(\"\\nThe model predicts that the person is unlikely to have diabetes.\")"
      ],
      "metadata": {
        "colab": {
          "base_uri": "https://localhost:8080/"
        },
        "id": "gS4aG781Fxyw",
        "outputId": "d7cfda01-e1b9-4142-bf4c-3f317a436789"
      },
      "execution_count": null,
      "outputs": [
        {
          "output_type": "stream",
          "name": "stdout",
          "text": [
            "\n",
            "Enter the following details for diabetes prediction:\n",
            "Number of times pregnant: 5\n",
            "Plasma glucose concentration a 2 hours in an oral glucose tolerance test: 85\n",
            "Diastolic blood pressure (mm Hg): 92\n",
            "Triceps skin fold thickness (mm): 55\n",
            "2-Hour serum insulin (mu U/ml): 80\n",
            "Body mass index (weight in kg/(height in m)^2): 45\n",
            "Diabetes pedigree function: 5\n",
            "Age (years): 50\n",
            "\n",
            "The model predicts that the person is unlikely to have diabetes.\n"
          ]
        },
        {
          "output_type": "stream",
          "name": "stderr",
          "text": [
            "/usr/local/lib/python3.10/dist-packages/sklearn/base.py:439: UserWarning: X does not have valid feature names, but StandardScaler was fitted with feature names\n",
            "  warnings.warn(\n"
          ]
        }
      ]
    }
  ]
}